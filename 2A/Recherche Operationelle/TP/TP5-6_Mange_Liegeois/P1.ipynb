{
 "cells": [
  {
   "cell_type": "markdown",
   "metadata": {},
   "source": [
    "# TP5-6 : Problème (P1) - contraintes de précédence"
   ]
  },
  {
   "cell_type": "markdown",
   "metadata": {},
   "source": [
    "Initialization (à décommenter et exécuter une seule fois)"
   ]
  },
  {
   "cell_type": "code",
   "execution_count": 1,
   "metadata": {
    "scrolled": true
   },
   "outputs": [
    {
     "name": "stderr",
     "output_type": "stream",
     "text": [
      "\u001b[32m\u001b[1m   Updating\u001b[22m\u001b[39m registry at `C:\\Users\\mlg15\\.julia\\registries\\General`\n",
      "\u001b[32m\u001b[1m  Resolving\u001b[22m\u001b[39m package versions...\n",
      "\u001b[32m\u001b[1m  Installed\u001b[22m\u001b[39m Clp ─ v0.8.3\n",
      "\u001b[32m\u001b[1mUpdating\u001b[22m\u001b[39m `C:\\Users\\mlg15\\.julia\\environments\\v1.5\\Project.toml`\n",
      " \u001b[90m [e2554f3b] \u001b[39m\u001b[92m+ Clp v0.8.3\u001b[39m\n",
      "\u001b[32m\u001b[1mUpdating\u001b[22m\u001b[39m `C:\\Users\\mlg15\\.julia\\environments\\v1.5\\Manifest.toml`\n",
      " \u001b[90m [e2554f3b] \u001b[39m\u001b[92m+ Clp v0.8.3\u001b[39m\n",
      "\u001b[32m\u001b[1m   Building\u001b[22m\u001b[39m Clp → `C:\\Users\\mlg15\\.julia\\packages\\Clp\\NUuKQ\\deps\\build.log`\n"
     ]
    }
   ],
   "source": [
    "import Pkg; Pkg.add(\"Clp\")"
   ]
  },
  {
   "cell_type": "markdown",
   "metadata": {},
   "source": [
    "Récupération des données"
   ]
  },
  {
   "cell_type": "code",
   "execution_count": 1,
   "metadata": {
    "scrolled": true
   },
   "outputs": [
    {
     "data": {
      "text/plain": [
       "5-element Array{Int64,1}:\n",
       " 2\n",
       " 3\n",
       " 1\n",
       " 4\n",
       " 1"
      ]
     },
     "execution_count": 1,
     "metadata": {},
     "output_type": "execute_result"
    }
   ],
   "source": [
    "D=[2, 3, 1, 4, 1]"
   ]
  },
  {
   "cell_type": "markdown",
   "metadata": {},
   "source": [
    "Modélisation et résolution de (P1) à l'aide d'un programme linéaire"
   ]
  },
  {
   "cell_type": "code",
   "execution_count": 2,
   "metadata": {
    "scrolled": false
   },
   "outputs": [
    {
     "name": "stdout",
     "output_type": "stream",
     "text": [
      "Min tfin\n",
      "Subject to\n",
      " -t[1] + t[2] >= 2.0\n",
      " -t[1] + t[3] >= 2.0\n",
      " -t[2] + t[4] >= 3.0\n",
      " -t[3] + t[4] >= 1.0\n",
      " -t[3] + t[5] >= 1.0\n",
      " -t[4] + tfin >= 4.0\n",
      " -t[5] + tfin >= 1.0\n",
      " t[1] >= 0.0\n",
      " t[2] >= 0.0\n",
      " t[3] >= 0.0\n",
      " t[4] >= 0.0\n",
      " t[5] >= 0.0\n",
      "\n",
      "start solve ... ... end solve\n",
      "\n",
      "Solution PL:\n",
      " \t t=[0.0, 2.0, 2.0, 5.0, 8.0]\t tfin=9.0\n"
     ]
    }
   ],
   "source": [
    "using JuMP\n",
    "using Clp\n",
    "\n",
    "model = Model(Clp.Optimizer) # set optimizer\n",
    "set_optimizer_attribute(model, \"LogLevel\", 0) #don't display anything during solve\n",
    "set_optimizer_attribute(model, \"Algorithm\", 4) #LP solver chosen is simplex\n",
    "\n",
    "# define t variables\n",
    "@variable(model, t[i in 1:5] >= 0)\n",
    "@variable(model, tfin)\n",
    "\n",
    "# define objective function\n",
    "@objective(model, Min, tfin)\n",
    "\n",
    "# define constraints: t_j - t_i  >= D[i], \\forall i predecesseur de j\n",
    "@constraint(model, t[2] - t[1] >= D[1] )\n",
    "@constraint(model, t[3] - t[1] >= D[1] )\n",
    "@constraint(model, t[4] - t[2] >= D[2] )\n",
    "@constraint(model, t[4] - t[3] >= D[3] )\n",
    "@constraint(model, t[5] - t[3] >= D[3] )\n",
    "\n",
    "#define constraints: tfin - t_i >= Duree[i], \\forall i predecesseur de j\n",
    "@constraint(model, tfin - t[4] >= D[4] )\n",
    "@constraint(model, tfin - t[5] >= D[5] )\n",
    "\n",
    "println(model)\n",
    "\n",
    "print(\"start solve ... \")\n",
    "optimize!(model)\n",
    "print(\"... end solve\")\n",
    "\n",
    "\n",
    "println(\"\\n\\nSolution PL:\\n \\t t=\", value.(t), \"\\t tfin=\", value(tfin))\n"
   ]
  },
  {
   "cell_type": "code",
   "execution_count": 3,
   "metadata": {
    "scrolled": false
   },
   "outputs": [
    {
     "ename": "LoadError",
     "evalue": "BoundsError: attempt to access 2-element Array{VariableRef,1} at index [3]",
     "output_type": "error",
     "traceback": [
      "BoundsError: attempt to access 2-element Array{VariableRef,1} at index [3]",
      "",
      "Stacktrace:",
      " [1] getindex(::Array{VariableRef,1}, ::Int64) at .\\array.jl:809",
      " [2] top-level scope at C:\\Users\\mlg15\\.julia\\packages\\MutableArithmetics\\0tlz5\\src\\rewrite.jl:227",
      " [3] top-level scope at C:\\Users\\mlg15\\.julia\\packages\\JuMP\\e0Uc2\\src\\macros.jl:440",
      " [4] top-level scope at In[3]:17",
      " [5] include_string(::Function, ::Module, ::String, ::String) at .\\loading.jl:1091"
     ]
    }
   ],
   "source": [
    "using JuMP\n",
    "using Clp\n",
    "\n",
    "model = Model(Clp.Optimizer) # set optimizer\n",
    "set_optimizer_attribute(model, \"LogLevel\", 0) #don't display anything during solve\n",
    "set_optimizer_attribute(model, \"Algorithm\", 4) #LP solver chosen is simplex\n",
    "\n",
    "# define t variables\n",
    "@variable(model, t[i in 1:2] >= 0)\n",
    "@variable(model, tfin)\n",
    "\n",
    "# define objective function\n",
    "@objective(model, Min, tfin)\n",
    "\n",
    "# define constraints: t_j - t_i  >= D[i], \\forall i predecesseur de j\n",
    "@constraint(model, t[2] - t[1] >= D[1] )\n",
    "@constraint(model, t[3] - t[1] >= D[1] )\n",
    "@constraint(model, t[4] - t[2] >= D[2] )\n",
    "@constraint(model, t[4] - t[3] >= D[3] )\n",
    "@constraint(model, t[5] - t[3] >= D[3] )\n",
    "\n",
    "#define constraints: tfin - t_i >= Duree[i], \\forall i predecesseur de j\n",
    "@constraint(model, tfin - t[4] >= D[4] )\n",
    "@constraint(model, tfin - t[5] >= D[5] )\n",
    "\n",
    "println(model)\n",
    "\n",
    "print(\"start solve ... \")\n",
    "optimize!(model)\n",
    "print(\"... end solve\")\n",
    "\n",
    "\n",
    "println(\"\\n\\nSolution PL:\\n \\t t=\", value.(t), \"\\t tfin=\", value(tfin))\n"
   ]
  },
  {
   "cell_type": "code",
   "execution_count": 4,
   "metadata": {},
   "outputs": [
    {
     "name": "stdout",
     "output_type": "stream",
     "text": [
      "Date de début de [t1,t2,t3,t4,t5]: [0.0, 2.0, 2.0, 5.0, 3.0]\n",
      "Date de fin : 9.0\n"
     ]
    }
   ],
   "source": [
    "import Pkg\n",
    "using LinearAlgebra\n",
    "\n",
    "# Fonction calculant le maximum d'un tableau\n",
    "function maximumTableau(tableau)\n",
    "    taille = size(tableau)[1]\n",
    "    maximum = tableau[1]\n",
    "    indice = 1\n",
    "    for i in 1:taille\n",
    "          if (tableau[i] > maximum)\n",
    "            maximum = tableau[i]\n",
    "            indice = i\n",
    "        end\n",
    "    end\n",
    "    return maximum, indice\n",
    "end\n",
    "\n",
    "# Fonction retournant la liste des prédcesseurs d'un noeud dans un graphe\n",
    "function Predecesseur(graphe,j)\n",
    "    nbSommets = size(graphe)[1]\n",
    "    listePredecesseurs = []\n",
    "    for i in 1:nbSommets\n",
    "        # Si le noeud a une valeur autre que 0, Inf ou - Inf, on l'ajoute \n",
    "        # à la liste des prédécesseurs du noeud dont on recherche les \n",
    "        # prédécesseurs\n",
    "        if graphe[i,j]!= Inf && graphe[i,j]!= -Inf\n",
    "            listePredecesseurs = append!([i],listePredecesseurs)\n",
    "        end\n",
    "    end\n",
    "    return listePredecesseurs\n",
    "end\n",
    "\n",
    "function BellmanFordLong(graphe, source)\n",
    "    \n",
    "    # Nombre de sommets du graphe\n",
    "    nbSommets = size(graphe)[1]\n",
    "\n",
    "    # Distance parcourue pour chaque\n",
    "    distance =  fill(-Inf,(nbSommets + 1,nbSommets))\n",
    "    distance[1, source]=0\n",
    "\n",
    "    k=1\n",
    "    bool=true\n",
    "    \n",
    "    # L'algorithme de Bellman-Ford s'arrête dès que 2 lignes du tableau de\n",
    "    # suite sont égales ou que k vaut nbSommets + 1\n",
    "    while (bool && k<nbSommets+1)\n",
    "        # On incrémente k\n",
    "        k += 1\n",
    "        # La ligne k est initialisée à partie de la ligne k-1\n",
    "        distance[k, :] = distance[k-1, :]\n",
    "        for i in 2:nbSommets\n",
    "            # On récupère les prédécesseurs de i\n",
    "            prede_i= Predecesseur(graphe,i)\n",
    "            l=[]\n",
    "            for j in prede_i\n",
    "                # on ajoute la somme du poids du predecesseur et de sa distance\n",
    "                l=append!([distance[k-1,j]+graphe[j,i]],l)\n",
    "            end\n",
    "            # On récupère le maximum de la liste précédente\n",
    "            distance[k,i], indice = maximumTableau(l)\n",
    "        end\n",
    "        # Si cette ligne du tableau est la même que la précédente on s'arrête\n",
    "        if (distance[k-1, :]==distance[k, :])\n",
    "                bool=false\n",
    "        end\n",
    "    end\n",
    "    # On retourne la dernière ligne\n",
    "    return distance[k,:]\n",
    "end\n",
    "\n",
    "graphe = \n",
    "# debut A   B    C    D    E    Fin\n",
    "[  0    0   -Inf -Inf -Inf -Inf -Inf\n",
    "   -Inf 0    2   2   -Inf -Inf -Inf;\n",
    "  -Inf  -Inf 0    -Inf 3   -Inf -Inf;\n",
    "  -Inf  -Inf -Inf  0   1   1    -Inf;\n",
    "  -Inf  -Inf -Inf -Inf 0   -Inf  4;\n",
    "  -Inf  -Inf -Inf -Inf -Inf  0   1;\n",
    "  -Inf  -Inf -Inf -Inf -Inf -Inf  0;\n",
    "]\n",
    "\n",
    "distance = BellmanFordLong(graphe, 1)\n",
    "println(\"Date de début de [t1,t2,t3,t4,t5]: \", distance[2:length(distance) - 1])\n",
    "println(\"Date de fin : \", distance[length(distance)])"
   ]
  }
 ],
 "metadata": {
  "kernelspec": {
   "display_name": "Julia 1.5.2",
   "language": "julia",
   "name": "julia-1.5"
  },
  "language_info": {
   "file_extension": ".jl",
   "mimetype": "application/julia",
   "name": "julia",
   "version": "1.5.2"
  }
 },
 "nbformat": 4,
 "nbformat_minor": 4
}
