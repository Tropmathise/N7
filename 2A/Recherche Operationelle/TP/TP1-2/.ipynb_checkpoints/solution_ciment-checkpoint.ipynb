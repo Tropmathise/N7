{
 "cells": [
  {
   "cell_type": "markdown",
   "metadata": {},
   "source": [
    "Exemple de modèle et résolution du problème de Fabrication du ciment"
   ]
  },
  {
   "cell_type": "code",
   "execution_count": 5,
   "metadata": {},
   "outputs": [
    {
     "name": "stderr",
     "output_type": "stream",
     "text": [
      "\u001b[32m\u001b[1m   Updating\u001b[22m\u001b[39m registry at `C:\\Users\\thoma\\.julia\\registries\\General`\n",
      "\u001b[32m\u001b[1m  Resolving\u001b[22m\u001b[39m package versions...\n",
      "\u001b[32m\u001b[1mNo Changes\u001b[22m\u001b[39m to `C:\\Users\\thoma\\.julia\\environments\\v1.5\\Project.toml`\n",
      "\u001b[32m\u001b[1mNo Changes\u001b[22m\u001b[39m to `C:\\Users\\thoma\\.julia\\environments\\v1.5\\Manifest.toml`\n",
      "\u001b[32m\u001b[1m  Resolving\u001b[22m\u001b[39m package versions...\n",
      "\u001b[32m\u001b[1mNo Changes\u001b[22m\u001b[39m to `C:\\Users\\thoma\\.julia\\environments\\v1.5\\Project.toml`\n",
      "\u001b[32m\u001b[1mNo Changes\u001b[22m\u001b[39m to `C:\\Users\\thoma\\.julia\\environments\\v1.5\\Manifest.toml`\n"
     ]
    }
   ],
   "source": [
    "#importer les packages utiles, le manager de package Pkg etant un package\n",
    "import Pkg; Pkg.add(\"Cbc\")\n",
    "Pkg.add(\"JuMP\")"
   ]
  },
  {
   "cell_type": "code",
   "execution_count": 10,
   "metadata": {},
   "outputs": [
    {
     "name": "stdout",
     "output_type": "stream",
     "text": [
      "Welcome to the CBC MILP Solver \n",
      "Version: 2.10.3 \n",
      "Build Date: Jan  1 1970 \n",
      "\n",
      "command line - Cbc_C_Interface -solve -quit (default strategy 1)\n",
      "Presolve 2 (0) rows, 2 (0) columns and 4 (0) elements\n",
      "0  Obj -0 Dual inf 120 (2)\n",
      "0  Obj -0 Dual inf 120 (2)\n",
      "2  Obj 1137.5\n",
      "Optimal - objective value 1137.5\n",
      "Optimal objective 1137.5 - 2 iterations time 0.002\n",
      "Total time (CPU seconds):       0.00   (Wallclock seconds):       0.00\n",
      "\n"
     ]
    }
   ],
   "source": [
    "# fonctionne pour JuMP version 0.21.5\n",
    "using Cbc\n",
    "using JuMP\n",
    "\n",
    "# data\n",
    "N = 2 # nombre de ciments disponibles\n",
    "c = [50,70] # prix de vente par ciment\n",
    "b = [360,480] # temps de disponibilité du four et de l'atelier\n",
    "A = [40 12;20 30] # temps nécessaire de calcination (four) et de broyage (atelier) par ciment\n",
    "\n",
    "# set optimizer\n",
    "model = Model(Cbc.Optimizer)\n",
    "\n",
    "# define variables\n",
    "@variable(model, ciment[1:N] >= 0)\n",
    "\n",
    "# define objective function\n",
    "@objective(model, Max, sum(c[i]*ciment[i] for i in 1:N))\n",
    "\n",
    "# define constraints\n",
    "for i in 1:length(b)\n",
    "    @constraint(model, sum(A[i,j]*ciment[j] for j in 1:N) <= b[i])\n",
    "end\n",
    "\n",
    "# run optimization\n",
    "optimize!(model)\n"
   ]
  },
  {
   "cell_type": "code",
   "execution_count": 3,
   "metadata": {},
   "outputs": [
    {
     "name": "stdout",
     "output_type": "stream",
     "text": [
      "Solution obtenue:\n",
      "\t benefice = 1137.5\n",
      "\t quantite de ciment 1 = 5.249999999999999\n",
      "\t quantite de ciment 2 = 12.5\n"
     ]
    }
   ],
   "source": [
    "# print solution\n",
    "println(\"Solution obtenue:\")\n",
    "println(\"\\t benefice = $(objective_value(model))\")\n",
    "for i in 1:N\n",
    "    println(\"\\t quantite de ciment $i = $(value(ciment[i]))\")\n",
    "end"
   ]
  },
  {
   "cell_type": "code",
   "execution_count": 2,
   "metadata": {},
   "outputs": [
    {
     "name": "stdout",
     "output_type": "stream",
     "text": [
      "Welcome to the CBC MILP Solver \n",
      "Version: 2.10.3 \n",
      "Build Date: Jan  1 1970 \n",
      "\n",
      "command line - Cbc_C_Interface -solve -quit (default strategy 1)\n",
      "Presolve 2 (-6) rows, 6 (0) columns and 6 (-6) elements\n",
      "0  Obj 2.6999999 Primal inf 5.099998 (2)\n",
      "2  Obj 9.5\n",
      "Optimal - objective value 9.5\n",
      "After Postsolve, objective 9.5, infeasibilities - dual 0 (0), primal 0 (0)\n",
      "Optimal objective 9.5 - 2 iterations time 0.002, Presolve 0.00\n",
      "Total time (CPU seconds):       0.05   (Wallclock seconds):       0.05\n",
      "\n"
     ]
    }
   ],
   "source": [
    "# Cas particulier 1\n",
    "\n",
    "# fonctionne pour JuMP version 0.21.5\n",
    "using Cbc\n",
    "using JuMP\n",
    "\n",
    "# data\n",
    "Nf = 2 # nombre de fluides\n",
    "Ne = 3 # nombre d'entrepôts\n",
    "Nd = 2 # nombre de demandes\n",
    "p = [1 2 3;1 3 2] # prix de vente\n",
    "s = [2.5 1 2;1 2 1] # stocks\n",
    "d = [2 1;0 3] # demandes\n",
    "\n",
    "# set optimizer\n",
    "model = Model(Cbc.Optimizer)\n",
    "\n",
    "# define variables\n",
    "@variable(model, quantites[1:Nf,1:Ne] >= 0)\n",
    "\n",
    "# define objective function\n",
    "@objective(model, Min, sum(sum(p[f,e]*quantites[f,e] for f in 1:Nf) for e in 1:Ne))\n",
    "\n",
    "# define constraints\n",
    "for f in 1:Nf\n",
    "    @constraint(model, sum(quantites[f,e] for e in 1:Ne) == sum(d[f,j] for j in 1:Nd))\n",
    "    for e in 1:Ne\n",
    "        @constraint(model, quantites[f,e] <= s[f,e])\n",
    "    end\n",
    "end\n",
    "\n",
    "# run optimization\n",
    "optimize!(model)\n"
   ]
  },
  {
   "cell_type": "code",
   "execution_count": 3,
   "metadata": {},
   "outputs": [
    {
     "name": "stdout",
     "output_type": "stream",
     "text": [
      "Solution obtenue:\n",
      "\t coût total = 9.5\n",
      "\t quantité de fluide 1 à acheter dans l'entrepôt 1 = 2.5\n",
      "\t quantité de fluide 1 à acheter dans l'entrepôt 2 = 0.5\n",
      "\t quantité de fluide 1 à acheter dans l'entrepôt 3 = 0.0\n",
      "\t quantité de fluide 2 à acheter dans l'entrepôt 1 = 1.0\n",
      "\t quantité de fluide 2 à acheter dans l'entrepôt 2 = 1.0\n",
      "\t quantité de fluide 2 à acheter dans l'entrepôt 3 = 1.0\n"
     ]
    }
   ],
   "source": [
    "# print solution\n",
    "println(\"Solution obtenue:\")\n",
    "println(\"\\t coût total = $(objective_value(model))\")\n",
    "for f in 1:Nf\n",
    "    for e in 1:Ne\n",
    "        println(\"\\t quantité de fluide $f à acheter dans l'entrepôt $e = $(value(quantites[f,e]))\")\n",
    "    end\n",
    "end"
   ]
  },
  {
   "cell_type": "code",
   "execution_count": 1,
   "metadata": {},
   "outputs": [
    {
     "name": "stdout",
     "output_type": "stream",
     "text": [
      "Welcome to the CBC MILP Solver \n",
      "Version: 2.10.3 \n",
      "Build Date: Jan  1 1970 \n",
      "\n",
      "command line - Cbc_C_Interface -solve -quit (default strategy 1)\n",
      "Continuous objective value is 12 - 0.01 seconds\n",
      "Cgl0004I processed model has 2 rows, 6 columns (6 integer (3 of which binary)) and 6 elements\n",
      "Cbc0012I Integer solution of 13 found by DiveCoefficient after 0 iterations and 0 nodes (0.02 seconds)\n",
      "Cbc0001I Search completed - best objective 13, took 0 iterations and 0 nodes (0.02 seconds)\n",
      "Cbc0035I Maximum depth 0, 0 variables fixed on reduced cost\n",
      "Cuts at root node changed objective from 13 to 13\n",
      "Probing was tried 0 times and created 0 cuts of which 0 were active after adding rounds of cuts (0.000 seconds)\n",
      "Gomory was tried 0 times and created 0 cuts of which 0 were active after adding rounds of cuts (0.000 seconds)\n",
      "Knapsack was tried 0 times and created 0 cuts of which 0 were active after adding rounds of cuts (0.000 seconds)\n",
      "Clique was tried 0 times and created 0 cuts of which 0 were active after adding rounds of cuts (0.000 seconds)\n",
      "MixedIntegerRounding2 was tried 0 times and created 0 cuts of which 0 were active after adding rounds of cuts (0.000 seconds)\n",
      "FlowCover was tried 0 times and created 0 cuts of which 0 were active after adding rounds of cuts (0.000 seconds)\n",
      "TwoMirCuts was tried 0 times and created 0 cuts of which 0 were active after adding rounds of cuts (0.000 seconds)\n",
      "ZeroHalf was tried 0 times and created 0 cuts of which 0 were active after adding rounds of cuts (0.000 seconds)\n",
      "\n",
      "Result - Optimal solution found\n",
      "\n",
      "Objective value:                13.00000000\n",
      "Enumerated nodes:               0\n",
      "Total iterations:               0\n",
      "Time (CPU seconds):             0.02\n",
      "Time (Wallclock seconds):       0.02\n",
      "\n",
      "Total time (CPU seconds):       0.02   (Wallclock seconds):       0.02\n",
      "\n"
     ]
    }
   ],
   "source": [
    "# Cas particulier 2\n",
    "\n",
    "# fonctionne pour JuMP version 0.21.5\n",
    "using Cbc\n",
    "using JuMP\n",
    "\n",
    "# data\n",
    "Nf = 2 # nombre de fluides\n",
    "Ne = 3 # nombre d'entrepôts\n",
    "Nd = 2 # nombre de demandes\n",
    "p = [1 2 3;1 3 2] # prix de vente\n",
    "s = [2.5 1 2;1 2 1] # stocks\n",
    "d = [3 1;0 3] # demandes\n",
    "\n",
    "# set optimizer\n",
    "model = Model(Cbc.Optimizer)\n",
    "\n",
    "# define variables\n",
    "@variable(model, quantites[1:Nf,1:Ne] >= 0, Int)\n",
    "\n",
    "# define objective function\n",
    "@objective(model, Min, sum(sum(p[f,e]*quantites[f,e] for f in 1:Nf) for e in 1:Ne))\n",
    "\n",
    "# define constraints\n",
    "for f in 1:Nf\n",
    "    @constraint(model, sum(quantites[f,e] for e in 1:Ne) == sum(d[f,j] for j in 1:Nd))\n",
    "    for e in 1:Ne\n",
    "        @constraint(model, quantites[f,e] <= s[f,e])\n",
    "    end\n",
    "end\n",
    "\n",
    "# run optimization\n",
    "optimize!(model)\n"
   ]
  },
  {
   "cell_type": "code",
   "execution_count": 7,
   "metadata": {},
   "outputs": [
    {
     "name": "stdout",
     "output_type": "stream",
     "text": [
      "Solution obtenue:\n",
      "\t coût total = 13.0\n",
      "\t quantité de fluide 1 à acheter dans l'entrepôt 1 = 2.0\n",
      "\t quantité de fluide 1 à acheter dans l'entrepôt 2 = 1.0\n",
      "\t quantité de fluide 1 à acheter dans l'entrepôt 3 = 1.0\n",
      "\t quantité de fluide 2 à acheter dans l'entrepôt 1 = 1.0\n",
      "\t quantité de fluide 2 à acheter dans l'entrepôt 2 = 1.0\n",
      "\t quantité de fluide 2 à acheter dans l'entrepôt 3 = 1.0\n"
     ]
    }
   ],
   "source": [
    "# print solution\n",
    "println(\"Solution obtenue:\")\n",
    "println(\"\\t coût total = $(objective_value(model))\")\n",
    "for f in 1:Nf\n",
    "    for e in 1:Ne\n",
    "        println(\"\\t quantité de fluide $f à acheter dans l'entrepôt $e = $(value(quantites[f,e]))\")\n",
    "    end\n",
    "end"
   ]
  },
  {
   "cell_type": "code",
   "execution_count": 9,
   "metadata": {},
   "outputs": [
    {
     "ename": "LoadError",
     "evalue": "MethodError: no method matching isless(::Int64, ::VariableRef)\nClosest candidates are:\n  isless(!Matched::Missing, ::Any) at missing.jl:87\n  isless(::Real, !Matched::AbstractFloat) at operators.jl:166\n  isless(::Integer, !Matched::ForwardDiff.Dual{Ty,V,N} where N where V) where Ty at C:\\Users\\thoma\\.julia\\packages\\ForwardDiff\\sdToQ\\src\\dual.jl:140\n  ...",
     "output_type": "error",
     "traceback": [
      "MethodError: no method matching isless(::Int64, ::VariableRef)\nClosest candidates are:\n  isless(!Matched::Missing, ::Any) at missing.jl:87\n  isless(::Real, !Matched::AbstractFloat) at operators.jl:166\n  isless(::Integer, !Matched::ForwardDiff.Dual{Ty,V,N} where N where V) where Ty at C:\\Users\\thoma\\.julia\\packages\\ForwardDiff\\sdToQ\\src\\dual.jl:140\n  ...",
      "",
      "Stacktrace:",
      " [1] <(::Int64, ::VariableRef) at .\\operators.jl:277",
      " [2] >(::VariableRef, ::Int64) at .\\operators.jl:303",
      " [3] macro expansion at C:\\Users\\thoma\\.julia\\packages\\MutableArithmetics\\0tlz5\\src\\rewrite.jl:227 [inlined]",
      " [4] macro expansion at C:\\Users\\thoma\\.julia\\packages\\JuMP\\qhoVb\\src\\macros.jl:830 [inlined]",
      " [5] top-level scope at .\\In[9]:23",
      " [6] include_string(::Function, ::Module, ::String, ::String) at .\\loading.jl:1091",
      " [7] execute_code(::String, ::String) at C:\\Users\\thoma\\.julia\\packages\\IJulia\\a1SNk\\src\\execute_request.jl:27",
      " [8] execute_request(::ZMQ.Socket, ::IJulia.Msg) at C:\\Users\\thoma\\.julia\\packages\\IJulia\\a1SNk\\src\\execute_request.jl:86",
      " [9] #invokelatest#1 at .\\essentials.jl:710 [inlined]",
      " [10] invokelatest at .\\essentials.jl:709 [inlined]",
      " [11] eventloop(::ZMQ.Socket) at C:\\Users\\thoma\\.julia\\packages\\IJulia\\a1SNk\\src\\eventloop.jl:8",
      " [12] (::IJulia.var\"#15#18\")() at .\\task.jl:356"
     ]
    }
   ],
   "source": [
    "# Cas particulier 3\n",
    "\n",
    "# fonctionne pour JuMP version 0.21.5\n",
    "using Cbc\n",
    "using JuMP\n",
    "\n",
    "# data\n",
    "Nf = 2 # nombre de fluides\n",
    "Ne = 3 # nombre d'entrepôts\n",
    "Nd = 2 # nombre de demandes\n",
    "p = [1 2 3;1 3 2] # prix de vente\n",
    "s = [2.5 1 2;1 2 1] # stocks\n",
    "d = [3 1;0 3] # demandes\n",
    "exp = [1 0 0; 0 2 1] #coût expédition\n",
    "\n",
    "# set optimizer\n",
    "model = Model(Cbc.Optimizer)\n",
    "\n",
    "# define variables\n",
    "@variable(model, quantites[1:Nf,1:Ne,1:Nd] >= 0, Int)\n",
    "\n",
    "# define objective function\n",
    "@objective(model, Min, sum(sum(p[f,e]*quantites[f,e] for f in 1:Nf) for e in 1:Ne))\n",
    "\n",
    "# define constraints\n",
    "for f in 1:Nf\n",
    "    @constraint(model, sum(quantites[f,e] for e in 1:Ne) == sum(d[f,j] for j in 1:Nd))\n",
    "    for e in 1:Ne\n",
    "        @constraint(model, quantites[f,e] <= s[f,e])\n",
    "    end\n",
    "end\n",
    "\n",
    "# run optimization\n",
    "optimize!(model)"
   ]
  },
  {
   "cell_type": "code",
   "execution_count": null,
   "metadata": {},
   "outputs": [],
   "source": []
  }
 ],
 "metadata": {
  "kernelspec": {
   "display_name": "Julia 1.5.3",
   "language": "julia",
   "name": "julia-1.5"
  },
  "language_info": {
   "file_extension": ".jl",
   "mimetype": "application/julia",
   "name": "julia",
   "version": "1.5.3"
  }
 },
 "nbformat": 4,
 "nbformat_minor": 4
}
